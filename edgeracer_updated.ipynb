{
 "cells": [
  {
   "cell_type": "code",
   "execution_count": null,
   "id": "822172d5-114d-426b-817a-81e0d933f109",
   "metadata": {},
   "outputs": [],
   "source": [
    "import chi\n",
    "chi.use_site(\"CHI@Edge\")\n",
    "chi.set(\"project_name\", \"CHI-231148\")"
   ]
  },
  {
   "cell_type": "code",
   "execution_count": null,
   "id": "279a976d-9965-43ab-b4a4-4a85984f2161",
   "metadata": {},
   "outputs": [],
   "source": [
    "from chi import container\n",
    "from chi import lease\n",
    "\n",
    "\n",
    "start, end = lease.lease_duration(days=2)\n",
    "lease_name = \"edgeracer-lease\"\n",
    "\n",
    "reservations = []\n",
    "lease.add_device_reservation(reservations, count=1, device_name=\"iot-edgeracer-pi-01\")\n",
    "container_lease = lease.create_lease(lease_name, reservations)\n",
    "lease_id = container_lease[\"id\"]\n",
    "\n",
    "print(f\"created lease with name {lease_name} and uuid {lease_id}, waiting for it to start. This can take up to 60s.\")\n",
    "lease.wait_for_active(lease_id)\n",
    "print(\"Done!\")"
   ]
  },
  {
   "cell_type": "code",
   "execution_count": null,
   "id": "1ca48515-784e-49bc-ac5b-5d7cc4e95649",
   "metadata": {},
   "outputs": [],
   "source": [
    "docker_image = \"docker.io/shermanm/carrunner:3.10-jammy-20230328-latest\"\n",
    "\n",
    "container1_obj = container.create_container(\n",
    "    \"carrunner\",\n",
    "    image=docker_image,\n",
    "    reservation_id=lease.get_device_reservation(container_lease[\"id\"]),\n",
    "    device_profiles=[\n",
    "        \"pi_camera\",\n",
    "        \"pi_gpio\",\n",
    "        \"pi_i2c_1\"\n",
    "    ],\n",
    "    exposed_ports = [\n",
    "        \"22\",\n",
    "        \"8887\"\n",
    "    ],\n",
    "    command = [\"/bin/bash\"],\n",
    "    interactive = True,\n",
    ")"
   ]
  },
  {
   "cell_type": "code",
   "execution_count": null,
   "id": "26ecad4c-8261-4742-9f4e-fca998bdb42b",
   "metadata": {},
   "outputs": [],
   "source": [
    "# Detect I2c Devices. We want to see that \"40\" is present\n",
    "cmd = \"i2cdetect -r -y 1\"\n",
    "print(\n",
    "    container.execute(container1_obj.uuid, cmd).get(\"output\")\n",
    ")"
   ]
  },
  {
   "cell_type": "code",
   "execution_count": null,
   "id": "966a0e26-c5a5-41e9-a1fc-48eefabc9f72",
   "metadata": {},
   "outputs": [],
   "source": [
    "# Test camera capture\n",
    "cmd = \"raspistill -o /tmp/o.jpg\"\n",
    "container.execute(container1_obj.uuid, cmd).get(\"output\")"
   ]
  }
 ],
 "metadata": {
  "kernelspec": {
   "display_name": "Python 3 (ipykernel)",
   "language": "python",
   "name": "python3"
  },
  "language_info": {
   "codemirror_mode": {
    "name": "ipython",
    "version": 3
   },
   "file_extension": ".py",
   "mimetype": "text/x-python",
   "name": "python",
   "nbconvert_exporter": "python",
   "pygments_lexer": "ipython3",
   "version": "3.10.9"
  }
 },
 "nbformat": 4,
 "nbformat_minor": 5
}
